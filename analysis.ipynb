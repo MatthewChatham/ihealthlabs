{
 "cells": [
  {
   "cell_type": "code",
   "execution_count": 1,
   "id": "1fb93cbd-8475-4d0b-a7fe-105f6f4b1b30",
   "metadata": {},
   "outputs": [
    {
     "name": "stdout",
     "output_type": "stream",
     "text": [
      "Intel MKL WARNING: Support of Intel(R) Streaming SIMD Extensions 4.2 (Intel(R) SSE4.2) enabled only processors has been deprecated. Intel oneAPI Math Kernel Library 2025.0 will require Intel(R) Advanced Vector Extensions (Intel(R) AVX) instructions.\n",
      "Intel MKL WARNING: Support of Intel(R) Streaming SIMD Extensions 4.2 (Intel(R) SSE4.2) enabled only processors has been deprecated. Intel oneAPI Math Kernel Library 2025.0 will require Intel(R) Advanced Vector Extensions (Intel(R) AVX) instructions.\n"
     ]
    }
   ],
   "source": [
    "import pandas as pd"
   ]
  },
  {
   "cell_type": "code",
   "execution_count": 2,
   "id": "db6c8b7f-9747-42a8-8c3c-00426ae775bc",
   "metadata": {},
   "outputs": [
    {
     "data": {
      "text/html": [
       "<div>\n",
       "<style scoped>\n",
       "    .dataframe tbody tr th:only-of-type {\n",
       "        vertical-align: middle;\n",
       "    }\n",
       "\n",
       "    .dataframe tbody tr th {\n",
       "        vertical-align: top;\n",
       "    }\n",
       "\n",
       "    .dataframe thead th {\n",
       "        text-align: right;\n",
       "    }\n",
       "</style>\n",
       "<table border=\"1\" class=\"dataframe\">\n",
       "  <thead>\n",
       "    <tr style=\"text-align: right;\">\n",
       "      <th></th>\n",
       "      <th>memberId</th>\n",
       "      <th>month</th>\n",
       "      <th>systolic_mmHg</th>\n",
       "    </tr>\n",
       "  </thead>\n",
       "  <tbody>\n",
       "    <tr>\n",
       "      <th>0</th>\n",
       "      <td>62a260c03b64e85e96af1d20</td>\n",
       "      <td>2022-07-01</td>\n",
       "      <td>133.08</td>\n",
       "    </tr>\n",
       "    <tr>\n",
       "      <th>1</th>\n",
       "      <td>62a260c03b64e85e96af1d20</td>\n",
       "      <td>2022-08-01</td>\n",
       "      <td>131.00</td>\n",
       "    </tr>\n",
       "    <tr>\n",
       "      <th>2</th>\n",
       "      <td>62a260c03b64e85e96af1d20</td>\n",
       "      <td>2022-09-01</td>\n",
       "      <td>130.88</td>\n",
       "    </tr>\n",
       "    <tr>\n",
       "      <th>3</th>\n",
       "      <td>62a260c03b64e85e96af1d20</td>\n",
       "      <td>2022-10-01</td>\n",
       "      <td>132.91</td>\n",
       "    </tr>\n",
       "    <tr>\n",
       "      <th>4</th>\n",
       "      <td>62a260c03b64e85e96af1d20</td>\n",
       "      <td>2022-11-01</td>\n",
       "      <td>127.75</td>\n",
       "    </tr>\n",
       "  </tbody>\n",
       "</table>\n",
       "</div>"
      ],
      "text/plain": [
       "                   memberId      month  systolic_mmHg\n",
       "0  62a260c03b64e85e96af1d20 2022-07-01         133.08\n",
       "1  62a260c03b64e85e96af1d20 2022-08-01         131.00\n",
       "2  62a260c03b64e85e96af1d20 2022-09-01         130.88\n",
       "3  62a260c03b64e85e96af1d20 2022-10-01         132.91\n",
       "4  62a260c03b64e85e96af1d20 2022-11-01         127.75"
      ]
     },
     "execution_count": 2,
     "metadata": {},
     "output_type": "execute_result"
    }
   ],
   "source": [
    "sbp = pd.read_excel('SBP_by_month.xlsx')\n",
    "# drop unnamed column\n",
    "sbp.pop('Unnamed: 0')\n",
    "sbp.head()"
   ]
  },
  {
   "cell_type": "code",
   "execution_count": null,
   "id": "351ff0a2-e73e-46c7-89e2-5ceb11f028b3",
   "metadata": {},
   "outputs": [],
   "source": [
    "time_series = pd.read_excel('time_series.xlsx')\n",
    "time_series.head()"
   ]
  },
  {
   "cell_type": "code",
   "execution_count": null,
   "id": "1b6bb243-e1f3-403d-8ab7-f2fceac961a5",
   "metadata": {},
   "outputs": [],
   "source": []
  }
 ],
 "metadata": {
  "kernelspec": {
   "display_name": "Python 3 (ipykernel)",
   "language": "python",
   "name": "python3"
  },
  "language_info": {
   "codemirror_mode": {
    "name": "ipython",
    "version": 3
   },
   "file_extension": ".py",
   "mimetype": "text/x-python",
   "name": "python",
   "nbconvert_exporter": "python",
   "pygments_lexer": "ipython3",
   "version": "3.12.2"
  }
 },
 "nbformat": 4,
 "nbformat_minor": 5
}
